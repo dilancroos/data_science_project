{
 "cells": [
  {
   "cell_type": "code",
   "execution_count": 10,
   "metadata": {},
   "outputs": [],
   "source": [
    "# my project has 2 main folders: data and functions\n",
    "# from a .ipynb file in the data folder, I can import functions from the functions folder\n",
    "\n",
    "# import functions from functions folder\n",
    "import sys\n",
    "import os\n",
    "import json\n",
    "import pandas as pd\n",
    "\n",
    "sys.path.append(os.path.abspath('../functions'))\n",
    "\n",
    "from functions import get_Normalized_DataFrame\n",
    "\n",
    "# import libraries"
   ]
  },
  {
   "cell_type": "code",
   "execution_count": 6,
   "metadata": {},
   "outputs": [
    {
     "data": {
      "text/plain": [
       "['__init__.py',\n",
       " '__pycache__',\n",
       " 'coaches.json',\n",
       " 'competitions.json',\n",
       " 'eventid2name.csv',\n",
       " 'info.ipynb',\n",
       " 'playerank.json',\n",
       " 'players.json',\n",
       " 'referees.json',\n",
       " 'tags2name.csv',\n",
       " 'teams.json']"
      ]
     },
     "execution_count": 6,
     "metadata": {},
     "output_type": "execute_result"
    }
   ],
   "source": [
    "filesInDir = os.listdir('.')\n",
    "filesInDir = sorted(filesInDir)\n",
    "filesInDir"
   ]
  },
  {
   "cell_type": "code",
   "execution_count": 37,
   "metadata": {},
   "outputs": [
    {
     "name": "stdout",
     "output_type": "stream",
     "text": [
      "coaches.json - json len: 208*15 - dataPoints: 3120\n",
      "competitions.json - json len: 7*8 - dataPoints: 56\n",
      "eventid2name.csv - csv len: 36*4 - dataPoints: 144\n",
      "playerank.json - json len: 46897*6 - dataPoints: 281382\n",
      "players.json - json len: 3603*22 - dataPoints: 79266\n",
      "referees.json - json len: 627*14 - dataPoints: 8778\n",
      "tags2name.csv - csv len: 59*3 - dataPoints: 177\n",
      "teams.json - json len: 142*9 - dataPoints: 1278\n",
      "\n",
      "total: 374201\n"
     ]
    }
   ],
   "source": [
    "total = 0\n",
    "for file in filesInDir:\n",
    "    if file.endswith(\".json\"):\n",
    "        # read the json file\n",
    "        with open(file) as f:\n",
    "            data = json.load(f)\n",
    "            jsonLen = len(data)\n",
    "            data = pd.json_normalize(data)\n",
    "            eachLen = len(data.columns)\n",
    "            \n",
    "            dataPoints = jsonLen*eachLen\n",
    "            print(f\"{file} - json len: {jsonLen}*{eachLen} - dataPoints: {dataPoints}\") \n",
    "            total = total + dataPoints\n",
    "    if file.endswith(\".csv\"):\n",
    "        # read the csv file\n",
    "        data = pd.read_csv(file)\n",
    "        csvLen = len(data)\n",
    "        csvColLen = len(data.columns)\n",
    "        dataPoints = csvLen*csvColLen\n",
    "        print(f\"{file} - csv len: {csvLen}*{csvColLen} - dataPoints: {dataPoints}\")\n",
    "        total = total + dataPoints\n",
    "\n",
    "print(\"\")\n",
    "print(f\"total: {total}\")"
   ]
  },
  {
   "cell_type": "code",
   "execution_count": 41,
   "metadata": {},
   "outputs": [
    {
     "name": "stdout",
     "output_type": "stream",
     "text": [
      "total: 830529\n",
      "total: 0.830529 million\n"
     ]
    }
   ],
   "source": [
    "x = 374201 + 456328\n",
    "# + 39015528\n",
    "print(f\"total: {x}\")\n",
    "\n",
    "# x in millions\n",
    "x = x/1000000\n",
    "print(f\"total: {x} million\")"
   ]
  }
 ],
 "metadata": {
  "kernelspec": {
   "display_name": "Python 3",
   "language": "python",
   "name": "python3"
  },
  "language_info": {
   "codemirror_mode": {
    "name": "ipython",
    "version": 3
   },
   "file_extension": ".py",
   "mimetype": "text/x-python",
   "name": "python",
   "nbconvert_exporter": "python",
   "pygments_lexer": "ipython3",
   "version": "3.11.6"
  }
 },
 "nbformat": 4,
 "nbformat_minor": 2
}
