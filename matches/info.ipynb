{
 "cells": [
  {
   "cell_type": "code",
   "execution_count": 2,
   "metadata": {},
   "outputs": [],
   "source": [
    "# my project has 2 main folders: data and functions\n",
    "# from a .ipynb file in the data folder, I can import functions from the functions folder\n",
    "\n",
    "# import functions from functions folder\n",
    "import os\n",
    "import json\n",
    "import pandas as pd\n",
    "\n",
    "# import libraries"
   ]
  },
  {
   "cell_type": "code",
   "execution_count": 3,
   "metadata": {},
   "outputs": [
    {
     "data": {
      "text/plain": [
       "['__init__.py',\n",
       " 'all_matches.ipynb',\n",
       " 'info.ipynb',\n",
       " 'matches_England.ipynb',\n",
       " 'matches_England.json',\n",
       " 'matches_European_Championship.json',\n",
       " 'matches_France.json',\n",
       " 'matches_Germany.json',\n",
       " 'matches_Italy.json',\n",
       " 'matches_Spain.json',\n",
       " 'matches_World_Cup.json']"
      ]
     },
     "execution_count": 3,
     "metadata": {},
     "output_type": "execute_result"
    }
   ],
   "source": [
    "filesInDir = os.listdir('.')\n",
    "filesInDir = sorted(filesInDir)\n",
    "filesInDir"
   ]
  },
  {
   "cell_type": "code",
   "execution_count": 4,
   "metadata": {},
   "outputs": [
    {
     "name": "stdout",
     "output_type": "stream",
     "text": [
      "matches_England.json - json len: 380*233 - dataPoints: 88540\n",
      "matches_European_Championship.json - json len: 51*278 - dataPoints: 14178\n",
      "matches_France.json - json len: 380*233 - dataPoints: 88540\n",
      "matches_Germany.json - json len: 306*211 - dataPoints: 64566\n",
      "matches_Italy.json - json len: 380*233 - dataPoints: 88540\n",
      "matches_Spain.json - json len: 380*233 - dataPoints: 88540\n",
      "matches_World_Cup.json - json len: 64*366 - dataPoints: 23424\n",
      "\n",
      "total: 456328\n"
     ]
    }
   ],
   "source": [
    "total = 0\n",
    "for file in filesInDir:\n",
    "    if file.endswith(\".json\"):\n",
    "        # read the json file\n",
    "        with open(file) as f:\n",
    "            data = json.load(f)\n",
    "            jsonLen = len(data)\n",
    "            data = pd.json_normalize(data)\n",
    "            eachLen = len(data.columns)\n",
    "            \n",
    "            dataPoints = jsonLen*eachLen\n",
    "            print(f\"{file} - json len: {jsonLen}*{eachLen} - dataPoints: {dataPoints}\") \n",
    "            total = total + dataPoints\n",
    "    if file.endswith(\".csv\"):\n",
    "        # read the csv file\n",
    "        data = pd.read_csv(file)\n",
    "        csvLen = len(data)\n",
    "        csvColLen = len(data.columns)\n",
    "        dataPoints = csvLen*csvColLen\n",
    "        print(f\"{file} - csv len: {csvLen}*{csvColLen} - dataPoints: {dataPoints}\")\n",
    "        total = total + dataPoints\n",
    "\n",
    "print(\"\")\n",
    "print(f\"total: {total}\")"
   ]
  },
  {
   "cell_type": "code",
   "execution_count": null,
   "metadata": {},
   "outputs": [],
   "source": []
  }
 ],
 "metadata": {
  "kernelspec": {
   "display_name": "Python 3",
   "language": "python",
   "name": "python3"
  },
  "language_info": {
   "codemirror_mode": {
    "name": "ipython",
    "version": 3
   },
   "file_extension": ".py",
   "mimetype": "text/x-python",
   "name": "python",
   "nbconvert_exporter": "python",
   "pygments_lexer": "ipython3",
   "version": "3.11.6"
  }
 },
 "nbformat": 4,
 "nbformat_minor": 2
}
