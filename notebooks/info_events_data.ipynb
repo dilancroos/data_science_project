{
 "cells": [
  {
   "cell_type": "code",
   "execution_count": 1,
   "metadata": {},
   "outputs": [],
   "source": [
    "import sys\n",
    "sys.path.append('../')\n",
    "\n",
    "import os\n",
    "import json\n",
    "import pandas as pd\n",
    "\n",
    "# import libraries"
   ]
  },
  {
   "cell_type": "code",
   "execution_count": 2,
   "metadata": {},
   "outputs": [
    {
     "data": {
      "text/plain": [
       "['.DS_Store',\n",
       " '__init__.py',\n",
       " 'events_England.json',\n",
       " 'events_European_Championship.json',\n",
       " 'events_France.json',\n",
       " 'events_Germany.json',\n",
       " 'events_Italy.json',\n",
       " 'events_Spain.json',\n",
       " 'events_World_Cup.json']"
      ]
     },
     "execution_count": 2,
     "metadata": {},
     "output_type": "execute_result"
    }
   ],
   "source": [
    "filesInDir = os.listdir('../raw_data/events')\n",
    "filesInDir = sorted(filesInDir)\n",
    "filesInDir"
   ]
  },
  {
   "cell_type": "code",
   "execution_count": 4,
   "metadata": {},
   "outputs": [
    {
     "name": "stdout",
     "output_type": "stream",
     "text": [
      "events_England.json - json len: 643150*12 - dataPoints: 7717800\n",
      "events_European_Championship.json - json len: 78140*12 - dataPoints: 937680\n",
      "events_France.json - json len: 632807*12 - dataPoints: 7593684\n",
      "events_Germany.json - json len: 519407*12 - dataPoints: 6232884\n",
      "events_Italy.json - json len: 647372*12 - dataPoints: 7768464\n",
      "events_Spain.json - json len: 628659*12 - dataPoints: 7543908\n",
      "events_World_Cup.json - json len: 101759*12 - dataPoints: 1221108\n",
      "\n",
      "total: 39015528\n"
     ]
    }
   ],
   "source": [
    "total = 0\n",
    "for file in filesInDir:\n",
    "    path = '../raw_data/events/' + file\n",
    "    if path.endswith(\".json\"):\n",
    "        # read the json path\n",
    "        with open(path) as f:\n",
    "            data = json.load(f)\n",
    "            jsonLen = len(data)\n",
    "            data = pd.json_normalize(data)\n",
    "            eachLen = len(data.columns)\n",
    "            \n",
    "            dataPoints = jsonLen*eachLen\n",
    "            print(f\"{file} - json len: {jsonLen}*{eachLen} - dataPoints: {dataPoints}\") \n",
    "            total = total + dataPoints\n",
    "    if path.endswith(\".csv\"):\n",
    "        # read the csv path\n",
    "        data = pd.read_csv(path)\n",
    "        csvLen = len(data)\n",
    "        csvColLen = len(data.columns)\n",
    "        dataPoints = csvLen*csvColLen\n",
    "        print(f\"{file} - csv len: {csvLen}*{csvColLen} - dataPoints: {dataPoints}\")\n",
    "        total = total + dataPoints\n",
    "\n",
    "print(\"\")\n",
    "print(f\"total: {total}\")"
   ]
  }
 ],
 "metadata": {
  "kernelspec": {
   "display_name": "Python 3",
   "language": "python",
   "name": "python3"
  },
  "language_info": {
   "codemirror_mode": {
    "name": "ipython",
    "version": 3
   },
   "file_extension": ".py",
   "mimetype": "text/x-python",
   "name": "python",
   "nbconvert_exporter": "python",
   "pygments_lexer": "ipython3",
   "version": "3.11.6"
  }
 },
 "nbformat": 4,
 "nbformat_minor": 2
}
